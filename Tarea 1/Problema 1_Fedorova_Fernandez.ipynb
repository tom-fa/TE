{
 "cells": [
  {
   "cell_type": "markdown",
   "metadata": {},
   "source": [
    "# Problema 1"
   ]
  },
  {
   "cell_type": "markdown",
   "metadata": {},
   "source": [
    "Paralelo : 200\n",
    "\n",
    "Profesor: Esteban Daines\n",
    "\n",
    "Integrantes:\n",
    "\n",
    "1.Anastasiia Fedorova, ROL:201873505-1\n",
    "\n",
    "2.Tomás Fernández Allamand, ROL:201873542-6\n"
   ]
  },
  {
   "cell_type": "markdown",
   "metadata": {},
   "source": [
    "## Modules import"
   ]
  },
  {
   "cell_type": "code",
   "execution_count": 1,
   "metadata": {},
   "outputs": [],
   "source": [
    "import cv2\n",
    "import math\n",
    "import numpy as np\n",
    "from scipy.spatial import distance as dist\n",
    "import imutils\n",
    "import matplotlib.pyplot as plt\n",
    "import Utilities as ut\n",
    "\n",
    "from sklearn import svm, datasets\n",
    "from sklearn.model_selection import train_test_split\n",
    "from sklearn.metrics import confusion_matrix\n"
   ]
  },
  {
   "cell_type": "markdown",
   "metadata": {},
   "source": [
    "## Shape and type detection auxilary functions"
   ]
  },
  {
   "cell_type": "code",
   "execution_count": 2,
   "metadata": {},
   "outputs": [],
   "source": [
    "def parallel(vertexList,margin):\n",
    "    paral = 0\n",
    "    vertex1=vertexList[0][0][0],vertexList[0][0][1] #tuples (coordinate1,coordinate2)\n",
    "    vertex2=vertexList[1][0][0],vertexList[1][0][1]\n",
    "    vertex3=vertexList[2][0][0],vertexList[2][0][1]\n",
    "    vertex4=vertexList[3][0][0],vertexList[3][0][1]\n",
    "    slope1 = abs(ut.slope(vertex1,vertex2))\n",
    "    slope2 = abs(ut.slope(vertex2,vertex3))\n",
    "    slope3 = abs(ut.slope(vertex3,vertex4))\n",
    "    slope4 = abs(ut.slope(vertex4,vertex1))\n",
    "    if ut.equal(slope1,slope2,margin):\n",
    "        paral +=1\n",
    "    if ut.equal(slope2,slope3,margin): #all comparison combinations\n",
    "        paral +=1\n",
    "    if ut.equal(slope3,slope4,margin):\n",
    "        paral +=1\n",
    "    if ut.equal(slope4,slope1,margin):\n",
    "        paral +=1\n",
    "    return paral\n",
    "\n",
    "\n",
    "def equalAngles(vertexList,margin):\n",
    "    eq = 0\n",
    "    alpha = ut.internalAngle(vertexList,0)\n",
    "    beta = ut.internalAngle(vertexList,1)  #function is only called while analyzing a quad\n",
    "    gamma = ut.internalAngle(vertexList,2)\n",
    "    omega = ut.internalAngle(vertexList,3)\n",
    "    if ut.equal(alpha, beta, margin):\n",
    "        eq += 1\n",
    "    if ut.equal(beta, gamma, margin):\n",
    "        eq += 1\n",
    "    if ut.equal(gamma, omega, margin):\n",
    "        eq += 1\n",
    "    if ut.equal(alpha, omega, margin):\n",
    "        eq += 1\n",
    "    if ut.equal(alpha, gamma, margin): #all posible combinations: 4!/(2!2!)=6\n",
    "        eq +=1\n",
    "    if ut.equal(beta, omega, margin):\n",
    "        eq += 1\n",
    "    return eq\n",
    "\n",
    "def equalSides(vertexList,margin,type):\n",
    "    eq = 0\n",
    "    if type == 'triangulo':                             #only called while analyzing a triangle\n",
    "        vertex1=vertexList[0][0][0],vertexList[0][0][1] #tuples (coordinate1,coordinate2)\n",
    "        vertex2=vertexList[1][0][0],vertexList[1][0][1]\n",
    "        vertex3=vertexList[2][0][0],vertexList[2][0][1]\n",
    "        side1 = ut.distance(vertex1,vertex2)\n",
    "        side2 = ut.distance(vertex2,vertex3)\n",
    "        side3 = ut.distance(vertex1,vertex3)\n",
    "        if ut.equal(side1, side2, margin):\n",
    "            eq += 1\n",
    "        if ut.equal(side2, side3, margin):\n",
    "            eq += 1\n",
    "        if ut.equal(side1, side3, margin):\n",
    "            eq += 1\n",
    "    if type == 'cuadrilatero':                          #only called while analyzing a quad\n",
    "        vertex1=vertexList[0][0][0],vertexList[0][0][1] #tuples (coordinate1,coordinate2)\n",
    "        vertex2=vertexList[1][0][0],vertexList[1][0][1]\n",
    "        vertex3=vertexList[2][0][0],vertexList[2][0][1]\n",
    "        vertex4=vertexList[3][0][0],vertexList[3][0][1]\n",
    "        side1=ut.distance(vertex1,vertex2)\n",
    "        side2=ut.distance(vertex2,vertex3)\n",
    "        side3=ut.distance(vertex3,vertex4)\n",
    "        side4=ut.distance(vertex1,vertex4)\n",
    "        if ut.equal(side1, side2, margin):\n",
    "            eq += 1\n",
    "        if ut.equal(side2, side3, margin):\n",
    "            eq += 1\n",
    "        if ut.equal(side3, side4, margin):\n",
    "            eq += 1\n",
    "        if ut.equal(side1, side4, margin):\n",
    "            eq += 1\n",
    "    return eq\n",
    "\n"
   ]
  },
  {
   "cell_type": "markdown",
   "metadata": {},
   "source": [
    "## Shape and type detection main functions"
   ]
  },
  {
   "cell_type": "code",
   "execution_count": 3,
   "metadata": {},
   "outputs": [],
   "source": [
    "#the dictionary used to get a shape's name by the number of its sides, more shapes can be added if necessary.\n",
    "dictShapes = {3:'triangulo',4:'cuadrilatero',5:'pentagono',6:'hexagono',7:'heptagono',\\\n",
    "8:'octogono',9:'eneagono',10:'decagono',11:'endecagono',12:'dodecagono'}\n",
    "\n",
    "def detectShape(cntr,margin): #input: contour,error margin, output: shape,triangle type, quad type\n",
    "    shape = 'no shape'\n",
    "    triangle = \"no triangulo\"\n",
    "    quad = \"no cuadrilatero\"\n",
    "    if len(cntr) in dictShapes: \n",
    "        shape = dictShapes[len(cntr)]\n",
    "        if shape == 'triangulo':\n",
    "            triangle = triangle_type(cntr,margin)\n",
    "        elif shape == 'cuadrilatero':\n",
    "            quad = quadrilateral_type(cntr,margin)\n",
    "    else:\n",
    "        if len(cntr) > 12:\n",
    "            shape = 'circulo'\n",
    "        #in any other case returns default 'no shape','no triangulo','no cuadrilatero'\n",
    "    return shape,triangle,quad\n",
    "\n",
    "#auxilary triangle type detection function\n",
    "def triangle_type(cntr,margin): #input: contour,error margin, output: triangle type\n",
    "    equality = equalSides(cntr,margin,'triangulo')\n",
    "    if equality == 3: #3 equal pairs\n",
    "        return \"equilatero\"\n",
    "    elif equality == 0 : # none are equal\n",
    "        return \"escaleno\"\n",
    "    else: \n",
    "        return \"isosceles\"\n",
    "\n",
    "#auxilary triangle type detection function\n",
    "def quadrilateral_type(cntr, margin): #input: contour,error margin, output: quad type\n",
    "    if not ut.isConvex(cntr): \n",
    "        return 'otro'\n",
    "    elif ut.isConvex(cntr):\n",
    "        if equalAngles(cntr,margin) == 6: #6 combinations in total, 4!/(2!2!)\n",
    "            if equalSides(cntr,margin,'cuadrilatero') == 4: \n",
    "                return 'cuadrado'\n",
    "            else:\n",
    "                return 'rectangulo'\n",
    "        elif equalAngles(cntr,margin) == 2:\n",
    "                if equalSides(cntr,margin,'cuadrilatero') == 4:\n",
    "                    return 'rombo' \n",
    "                else:\n",
    "                    if equalSides(cntr,margin,'cuadrilatero') == 2:\n",
    "                        return 'romboide' #does consider, in this the case, that rhomboid == parallelogram \n",
    "        else:\n",
    "            if parallel(cntr,margin) == 1:\n",
    "                return 'trapecio' #a pair of parallel sides\n",
    "\n",
    "    else:\n",
    "        return 'trapezoide'"
   ]
  },
  {
   "cell_type": "markdown",
   "metadata": {},
   "source": [
    "## RGB dictionary and RGB2LAB transformation"
   ]
  },
  {
   "cell_type": "code",
   "execution_count": 4,
   "metadata": {},
   "outputs": [
    {
     "data": {
      "text/plain": [
       "'3D array looks like this\\n[[[255 128 128]]\\n [[136 208 195]]\\n [[137 213 111]]...]'"
      ]
     },
     "execution_count": 4,
     "metadata": {},
     "output_type": "execute_result"
    }
   ],
   "source": [
    "colorDictionary = {\n",
    "    \"blanco\": (255,255,255),  #white RGB\n",
    "    \"rojo\": (255, 0, 0), #red RGB\n",
    "    \"verde\": (0, 255, 0), #green RGB\n",
    "    \"azul\": (0, 0, 255), #blue RGB\n",
    "    \"amarillo\": (255,255,0), #yellow RGB\n",
    "    \"cyan\": (0,255,255), #cyan RGB\n",
    "    \"fucsia\": (255,0,255), #fucsia RGB\n",
    "}\n",
    "\n",
    "\n",
    "# Create an array (matrix) to save colors and transform them to LAB format later.\n",
    "labColors = np.zeros((len(colorDictionary), 1, 3), dtype=\"uint8\")\n",
    "# Create a list to save corresponding color names.\n",
    "labColorNames = []\n",
    "\n",
    "\n",
    "# Iterate over color dictionary and save values in respective lists.\n",
    "for (i, (name, rgb)) in enumerate(colorDictionary.items()):\n",
    "    labColors[i] = rgb\n",
    "    labColorNames.append(name)\n",
    "\n",
    "'''\n",
    "enumerate(colorDictionary.items()) has this form:\n",
    "(0, ('blanco', (255, 255, 255)))\n",
    "(1, ('rojo', (255, 0, 0)))\n",
    "(2, ('fucsia', (244, 0, 161)))\n",
    "(3, ('amarillo', (255, 255, 0)))...\n",
    "'''\n",
    "\n",
    "# Convert array to LAB color format\n",
    "labColors = cv2.cvtColor(labColors, cv2.COLOR_RGB2LAB)\n",
    "# Input: Image image; Contour c.\n",
    "\n",
    "'''3D array looks like this\n",
    "[[[255 128 128]]\n",
    " [[136 208 195]]\n",
    " [[137 213 111]]...]'''\n",
    "\n",
    "#Note: the array has the same order of colors as the list labColorNames.Order is 'randomized' every time the program is executed.\n",
    "\n"
   ]
  },
  {
   "cell_type": "markdown",
   "metadata": {},
   "source": [
    "## Color detection (same color and opposite color)"
   ]
  },
  {
   "cell_type": "code",
   "execution_count": 5,
   "metadata": {},
   "outputs": [],
   "source": [
    "def EuclidianDistance(t1,t2): #t1 - tuple with FP (mean), t2- list of integers (color of the figure)\n",
    "    dist = ((t1[0]-float(t2[0]))**2 + (t1[1]-float(t2[1]))**2 + (t1[2]-float(t2[2]))**2)**0.5\n",
    "    return dist\n",
    "\n",
    "def detectColor(image, c):\n",
    "    # Create contour mask to ignore rest of the image.\n",
    "    mask = np.zeros(image.shape[:2], dtype=\"uint8\")\n",
    "    cv2.drawContours(mask, [c], -1, 255, -1)\n",
    "    mask = cv2.erode(mask, None, iterations=2)\n",
    "\n",
    "    # Obtain mean value of contour internal color.\n",
    "    mean = cv2.mean(image, mask=mask)[:3]\n",
    "    # Loop over array to find the closest in range.\n",
    "    closestColor = ''\n",
    "    minDistance = float('inf')\n",
    "    count = 0 #represets an index in labColorNames\n",
    "    for l in labColors:\n",
    "        if EuclidianDistance(mean,l[0]) < minDistance:\n",
    "            #Searchest for the smallest distance.\n",
    "            closestColor = labColorNames[count]\n",
    "            minDistance = EuclidianDistance(mean,l[0])\n",
    "        count += 1\n",
    "    return closestColor\n",
    "    #labColors - array of colors in LAB mode\n",
    "    #labColorNames - list of colors in the same order as presented in the array\n",
    "\n",
    "\n",
    "\n",
    "\n",
    "#DETECT OPPOSITE COLOR\n",
    "# Input: Image image; Contour c.\n",
    "# Output: Name of color from color dictionary with maximal distance to contour's color.\n",
    "#         Values -> \"rojo\",\"verde\",\"azul\",\"amarillo\",\"fucsia\",\"cyan\",\"blanco\"\n",
    "def detectOppositeColor(image, c):\n",
    "    # Create contour mask to ignore rest of the image.\n",
    "    mask = np.zeros(image.shape[:2], dtype=\"uint8\")\n",
    "    cv2.drawContours(mask, [c], -1, 255, -1)\n",
    "    mask = cv2.erode(mask, None, iterations=2)\n",
    "\n",
    "    # Obtain mean value of contour internal color.\n",
    "    mean = cv2.mean(image, mask=mask)[:3]\n",
    "    oppositeColor = ''\n",
    "    maxDistance = -float('inf') # for searching for the biggest tuple\n",
    "    count = 0 #represets an index in labColorNames\n",
    "    for l in labColors:\n",
    "        if EuclidianDistance(mean,l[0]) > maxDistance:\n",
    "            #searches for the greatest distance\n",
    "            oppositeColor = labColorNames[count]\n",
    "            maxDistance = EuclidianDistance(mean,l[0])\n",
    "        count += 1\n",
    "    return oppositeColor\n",
    "#alternatively, could have used enumerate to get index of every color, used count instead.\n"
   ]
  },
  {
   "cell_type": "markdown",
   "metadata": {},
   "source": [
    "## Define file name and load the file"
   ]
  },
  {
   "cell_type": "code",
   "execution_count": 6,
   "metadata": {},
   "outputs": [],
   "source": [
    "fileNames = [\"formas\",\"formas2\",\"triangulos\",\"triangulos2\",\"cuadrilateros\"]\n",
    "imageName = fileNames[0] #range (0,4) in this case, used for selection of the file.\n",
    "# OpenCV loads image in BRG format\n",
    "image = cv2.imread(imageName +'.png')\n",
    "\n",
    "# caso 'formas2' - el 'romboide' no es el rombo segun calculos / al verficar en editor de imagines\n",
    "# caso 'formas2' - triangulos blanco y rojo estan anotados en orden inverso \n",
    "# hay error de anotacion de color en txt - magenta en vez de celeste en uno de los casos "
   ]
  },
  {
   "cell_type": "markdown",
   "metadata": {},
   "source": [
    "## Manipulating the image"
   ]
  },
  {
   "cell_type": "code",
   "execution_count": 7,
   "metadata": {},
   "outputs": [],
   "source": [
    "# OpenCv uses BRG format, convert it to RGB\n",
    "RGB_img = cv2.cvtColor(image, cv2.COLOR_BGR2RGB)\n",
    "\n",
    "# Resize image\n",
    "resizeRatio = 2 #the bigger the number, the slower but more exact is the shape detection.\n",
    "resized = imutils.resize(image, width=int(resizeRatio*image.shape[1]))\n",
    "\n",
    "# Blur image slightly\n",
    "blurred = cv2.GaussianBlur(resized, (5, 5), 0)\n",
    "\n",
    "# Convert blurred image grayscale and the L*a*b* color spaces\n",
    "gray = cv2.cvtColor(blurred, cv2.COLOR_BGR2GRAY)\n",
    "lab = cv2.cvtColor(blurred, cv2.COLOR_BGR2LAB)\n",
    "\n",
    "# Use a threshold to create a two colored image \n",
    "minimumThreshold = 10\n",
    "# threshold value, if pixels value is lower / higher than it it is assigned one value (may be white), \n",
    "#else it is assigned another value (may be black)\n",
    "thresh = cv2.threshold(gray, minimumThreshold, 255, cv2.THRESH_BINARY)[1]"
   ]
  },
  {
   "cell_type": "markdown",
   "metadata": {},
   "source": [
    "## Encontrar Contornos"
   ]
  },
  {
   "cell_type": "code",
   "execution_count": 8,
   "metadata": {},
   "outputs": [],
   "source": [
    "cnts = cv2.findContours(thresh.copy(), cv2.RETR_EXTERNAL, cv2.CHAIN_APPROX_SIMPLE)\n",
    "cnts = cnts[0] if imutils.is_cv2() else cnts[1]"
   ]
  },
  {
   "cell_type": "markdown",
   "metadata": {},
   "source": [
    "## Inicializar Listas"
   ]
  },
  {
   "cell_type": "code",
   "execution_count": 9,
   "metadata": {},
   "outputs": [],
   "source": [
    "results = list()\n",
    "shapes = list()\n",
    "colors = list()\n",
    "triangles = list()\n",
    "quads = list()"
   ]
  },
  {
   "cell_type": "markdown",
   "metadata": {},
   "source": [
    "## Iterar en Contornos, Detectar Forma y Color."
   ]
  },
  {
   "cell_type": "code",
   "execution_count": 10,
   "metadata": {},
   "outputs": [],
   "source": [
    "# Loop over the contours\n",
    "for c in cnts:\n",
    "    # Compute the center of the contour\n",
    "    M = cv2.moments(c)\n",
    "    cX = int((M[\"m10\"] / M[\"m00\"]) / resizeRatio)\n",
    "    cY = int((M[\"m01\"] / M[\"m00\"]) / resizeRatio)\n",
    "\n",
    "    # Calculate contour perimeter\n",
    "    peri = cv2.arcLength(c, True)\n",
    "\n",
    "    # Aproximate contour rects\n",
    "    approximationMargin = 0.008 #<-Can be modified \n",
    "    # bigger values lower the precision of the contours\n",
    "    approx = cv2.approxPolyDP(c, approximationMargin * peri, True)\n",
    "\n",
    "\n",
    "    # Detect form and color of contour(IMPLEMENTAR!)\n",
    "    equalityMargin = 0.05 \n",
    "    shape,triangle,quad = detectShape(approx,equalityMargin)\n",
    "    color = detectColor(lab, c)\n",
    "    opcolor = colorDictionary[detectOppositeColor(lab, c)]\n",
    "\n",
    "    # Multiply coordinates with resize ratio\n",
    "    approx = approx.astype(\"float\")\n",
    "    approx /= resizeRatio\n",
    "    approx = approx.astype(\"int\")\n",
    "\n",
    "    # Draw detected approximate figure in the image\n",
    "    cv2.drawContours(image, [approx], -1, (opcolor[2],opcolor[1],opcolor[0]), 4)\n",
    "\n",
    "    # Draw identifier in the center of contour\n",
    "    text = str(i)\n",
    "    textsize = cv2.getTextSize(text, cv2.FONT_HERSHEY_SIMPLEX, 3, 5);\n",
    "    opcolor = colorDictionary[detectOppositeColor(lab, c)]\n",
    "    cv2.putText(image, text, (cX-int(textsize[0][0]/2), cY+int(textsize[0][1]/2)),\n",
    "                cv2.FONT_HERSHEY_SIMPLEX, 3, (opcolor[2],opcolor[1],opcolor[0]), 4)\n",
    "\n",
    "    # Save results in lists\n",
    "    results.append((text,shape,color,triangle,quad))\n",
    "    shapes.append(shape)\n",
    "    colors.append(color)\n",
    "    triangles.append(triangle)\n",
    "    quads.append(quad)\n",
    "    i+=1\n"
   ]
  },
  {
   "cell_type": "markdown",
   "metadata": {},
   "source": [
    "## Save and plot image"
   ]
  },
  {
   "cell_type": "code",
   "execution_count": 11,
   "metadata": {},
   "outputs": [
    {
     "data": {
      "image/png": "[encoded data removed]",
      "text/plain": [
       "<Figure size 960x960 with 1 Axes>"
      ]
     },
     "metadata": {},
     "output_type": "display_data"
    }
   ],
   "source": [
    "# OpenCv uses BRG format, convert it to RGB\n",
    "RGB_img = cv2.cvtColor(image, cv2.COLOR_BGR2RGB)\n",
    "\n",
    "# Save image\n",
    "cv2.imwrite('generated_{}.png'.format(imageName),image)\n",
    "\n",
    "# Plot image\n",
    "fig=plt.figure(figsize=(12, 12), dpi= 80)\n",
    "plt.xticks([]), plt.yticks([])\n",
    "plt.imshow(RGB_img)\n",
    "plt.show()"
   ]
  },
  {
   "cell_type": "markdown",
   "metadata": {},
   "source": [
    "## Save results in file"
   ]
  },
  {
   "cell_type": "code",
   "execution_count": 12,
   "metadata": {},
   "outputs": [],
   "source": [
    "# Save results\n",
    "f = open('generated_{}.txt'.format(imageName),\"w\")\n",
    "for r in results:\n",
    "    f.write(','.join(list(r))+'\\n')\n",
    "f.close()"
   ]
  },
  {
   "cell_type": "markdown",
   "metadata": {},
   "source": [
    "## Obtain real data set from file"
   ]
  },
  {
   "cell_type": "code",
   "execution_count": 13,
   "metadata": {},
   "outputs": [],
   "source": [
    "f =  open('{}.txt'.format(imageName))\n",
    "trueresults = list()\n",
    "trueshapes = list()\n",
    "truecolors = list()\n",
    "truetriangles = list()\n",
    "truequads = list()\n",
    "for line in f:\n",
    "    tr = tuple(line.strip().split(','))\n",
    "    trueresults.append(tr)\n",
    "    trueshapes.append(tr[1])\n",
    "    truecolors.append(tr[2])\n",
    "    truetriangles.append(tr[3])\n",
    "    truequads.append(tr[4])"
   ]
  },
  {
   "cell_type": "markdown",
   "metadata": {},
   "source": [
    "## Plot general shape confusion matrix"
   ]
  },
  {
   "cell_type": "code",
   "execution_count": 14,
   "metadata": {},
   "outputs": [
    {
     "data": {
      "image/png": "[encoded data removed]",
      "text/plain": [
       "<Figure size 576x576 with 2 Axes>"
      ]
     },
     "metadata": {},
     "output_type": "display_data"
    }
   ],
   "source": [
    "#Define true data and prediction for matrix\n",
    "truedata = trueshapes\n",
    "prediction = shapes\n",
    "\n",
    "#Calculate confusion matrix\n",
    "cnf = confusion_matrix(truedata,prediction)\n",
    "clases = list(set(truedata+prediction))\n",
    "clases.sort()\n",
    "\n",
    "#Plot confusion matrix\n",
    "ut.plot_confusion_matrix(cnf, classes=clases, normalize=False, title='General Shape Confusion matrix')"
   ]
  },
  {
   "cell_type": "markdown",
   "metadata": {},
   "source": [
    "## Plot color confusion matrix"
   ]
  },
  {
   "cell_type": "code",
   "execution_count": 15,
   "metadata": {},
   "outputs": [
    {
     "data": {
      "image/png": "[encoded data removed]",
      "text/plain": [
       "<Figure size 576x576 with 2 Axes>"
      ]
     },
     "metadata": {},
     "output_type": "display_data"
    }
   ],
   "source": [
    "#Define true data and prediction for matrix\n",
    "truedata = truecolors\n",
    "prediction = colors\n",
    "\n",
    "#Calculate confusion matrix\n",
    "cnf = confusion_matrix(truedata,prediction)\n",
    "clases = list(set(truedata+prediction))\n",
    "clases.sort()\n",
    "\n",
    "#Plot confusion matrix\n",
    "ut.plot_confusion_matrix(cnf, classes=clases, normalize=False, title='Color Confusion Matrix')"
   ]
  },
  {
   "cell_type": "markdown",
   "metadata": {},
   "source": [
    "## Plot triangular shape confusion matrix"
   ]
  },
  {
   "cell_type": "code",
   "execution_count": 16,
   "metadata": {},
   "outputs": [
    {
     "data": {
      "image/png": "[encoded data removed]",
      "text/plain": [
       "<Figure size 576x576 with 2 Axes>"
      ]
     },
     "metadata": {},
     "output_type": "display_data"
    }
   ],
   "source": [
    "#Define true data and prediction for matrix\n",
    "truedata = truetriangles\n",
    "prediction = triangles\n",
    "\n",
    "#Calculate confusion matrix\n",
    "cnf = confusion_matrix(truedata,prediction)\n",
    "clases = list(set(truedata+prediction))\n",
    "clases.sort()\n",
    "\n",
    "#Plot confusion matrix\n",
    "ut.plot_confusion_matrix(cnf, classes=clases, normalize=False, title='Triangular Shape Confusion Matrix')"
   ]
  },
  {
   "cell_type": "markdown",
   "metadata": {},
   "source": [
    "## Plot quadrilateral shape confusion matrix"
   ]
  },
  {
   "cell_type": "code",
   "execution_count": 17,
   "metadata": {},
   "outputs": [
    {
     "data": {
      "image/png": "[encoded data removed]",
      "text/plain": [
       "<Figure size 576x576 with 2 Axes>"
      ]
     },
     "metadata": {},
     "output_type": "display_data"
    }
   ],
   "source": [
    "#Define true data and prediction for matrix\n",
    "truedata = truequads\n",
    "prediction = quads\n",
    "\n",
    "#Calculate confusion matrix\n",
    "cnf = confusion_matrix(truedata,prediction)\n",
    "clases = list(set(truedata+prediction))\n",
    "clases.sort()\n",
    "\n",
    "#Plot confusion matrix\n",
    "ut.plot_confusion_matrix(cnf, classes=clases, normalize=False, title='Quadrilateral Shape Confusion Matrix')"
   ]
  }
 ],
 "metadata": {
  "kernelspec": {
   "display_name": "Python 2",
   "language": "python",
   "name": "python2"
  },
  "language_info": {
   "codemirror_mode": {
    "name": "ipython",
    "version": 2
   },
   "file_extension": ".py",
   "mimetype": "text/x-python",
   "name": "python",
   "nbconvert_exporter": "python",
   "pygments_lexer": "ipython2",
   "version": "2.7.14"
  }
 },
 "nbformat": 4,
 "nbformat_minor": 2
}
