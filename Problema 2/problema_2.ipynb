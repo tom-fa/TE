{
 "cells": [
  {
   "cell_type": "markdown",
   "metadata": {
    "colab_type": "text",
    "id": "bxz1Hws0ZyEM"
   },
   "source": [
    "# Antenas de Celular\n",
    "## ¿Dónde posicionarlas?"
   ]
  },
  {
   "cell_type": "markdown",
   "metadata": {},
   "source": [
    "### Número de Grupo\n",
    "### Nombres"
   ]
  },
  {
   "cell_type": "markdown",
   "metadata": {
    "colab_type": "text",
    "id": "4IK6iZlG8YWC"
   },
   "source": [
    "**Problema:** Encontrar las mejores ubicaciones para instalar $N$ antenas según distintos casos para diferentes escenarios.\n",
    "\n",
    "*Detalles:* PDF del problema 2 en Moodle."
   ]
  },
  {
   "cell_type": "code",
   "execution_count": null,
   "metadata": {
    "colab": {},
    "colab_type": "code",
    "id": "YHtE2l7toC00"
   },
   "outputs": [],
   "source": [
    "# Modulo con funciones a utilizar (debe ser importado, no copiar y pegar las funciones!)\n",
    "from utilities import *"
   ]
  },
  {
   "cell_type": "markdown",
   "metadata": {},
   "source": [
    "### Funciones para obtener datos\n",
    "\n",
    "Debe conocer la estructura de los archivos para entender lo que debe retornar."
   ]
  },
  {
   "cell_type": "code",
   "execution_count": null,
   "metadata": {},
   "outputs": [],
   "source": [
    "def leerAntenas(nombre_archivo):\n",
    "    # nombre_archivo: str\n",
    "    # TODO\n",
    "    return antenas"
   ]
  },
  {
   "cell_type": "code",
   "execution_count": null,
   "metadata": {},
   "outputs": [],
   "source": [
    "def leerPoblacion(nombre_archivo):\n",
    "    # nombre_archivo: str\n",
    "    # TODO\n",
    "    return poblacion"
   ]
  },
  {
   "cell_type": "markdown",
   "metadata": {
    "colab_type": "text",
    "id": "BlqelzdphPvr"
   },
   "source": [
    "## Caso 1: Señales\n",
    "\n",
    "Solo tienen la información de las antenas existentes."
   ]
  },
  {
   "cell_type": "code",
   "execution_count": null,
   "metadata": {},
   "outputs": [],
   "source": [
    "def buscarPorSenal(N, antenas):\n",
    "    # N: numero de antenas a buscar\n",
    "    # antenas: informacion de las antenas, lista de tuplas.\n",
    "      \n",
    "    # Optimizar algo?\n",
    "    \n",
    "    return nuevas_antenas"
   ]
  },
  {
   "cell_type": "markdown",
   "metadata": {},
   "source": [
    "### Escenario 1"
   ]
  },
  {
   "cell_type": "code",
   "execution_count": null,
   "metadata": {},
   "outputs": [],
   "source": [
    "# Quizas sea buena idea ver la senal"
   ]
  },
  {
   "cell_type": "code",
   "execution_count": null,
   "metadata": {
    "scrolled": false
   },
   "outputs": [],
   "source": [
    "# Busquemos nuevas antenas"
   ]
  },
  {
   "cell_type": "code",
   "execution_count": null,
   "metadata": {},
   "outputs": [],
   "source": [
    "# Ver la nueva senal?"
   ]
  },
  {
   "cell_type": "markdown",
   "metadata": {},
   "source": [
    "### Escenario 2"
   ]
  },
  {
   "cell_type": "code",
   "execution_count": null,
   "metadata": {},
   "outputs": [],
   "source": [
    "# Lo mismo de arriba?"
   ]
  },
  {
   "cell_type": "markdown",
   "metadata": {
    "colab": {},
    "colab_type": "code",
    "id": "HiNAK3wDrc51"
   },
   "source": [
    "## Caso 2: Población\n",
    "\n",
    "Tienen la información tanto de las antenas ya existentes como de la ubicación de la población."
   ]
  },
  {
   "cell_type": "code",
   "execution_count": null,
   "metadata": {},
   "outputs": [],
   "source": [
    "def buscarPorPoblacion(N, poblacion, antenas):\n",
    "    # N: numero de antenas a buscar\n",
    "    # poblacion: informacion de la poblacion, diccionario.\n",
    "    # antenas: informacion de las antenas, lista de tuplas.\n",
    "    \n",
    "    # Quizas se necesite optimizar algo...\n",
    "    return nuevas_antenas"
   ]
  },
  {
   "cell_type": "markdown",
   "metadata": {},
   "source": [
    "### Escenario 1"
   ]
  },
  {
   "cell_type": "code",
   "execution_count": null,
   "metadata": {},
   "outputs": [],
   "source": [
    "# Quizas sea buena idea ver la poblacion"
   ]
  },
  {
   "cell_type": "code",
   "execution_count": null,
   "metadata": {},
   "outputs": [],
   "source": [
    "# Busquemos nuevas antenas"
   ]
  },
  {
   "cell_type": "code",
   "execution_count": null,
   "metadata": {},
   "outputs": [],
   "source": [
    "# Ver la nueva configuracion"
   ]
  },
  {
   "cell_type": "markdown",
   "metadata": {},
   "source": [
    "### Escenario 2"
   ]
  },
  {
   "cell_type": "code",
   "execution_count": null,
   "metadata": {},
   "outputs": [],
   "source": [
    "# Lo mismo de arriba?"
   ]
  },
  {
   "cell_type": "markdown",
   "metadata": {},
   "source": [
    "## Graficar población y señal"
   ]
  },
  {
   "cell_type": "code",
   "execution_count": null,
   "metadata": {},
   "outputs": [],
   "source": [
    "def graficarPoblacionAntenas(poblacion, antenas):\n",
    "    # poblacion: informacion de la poblacion\n",
    "    # antenas: informacion de las antenas\n",
    "    # Crear un grafico bonito\n",
    "    # No retorno nada ;)"
   ]
  },
  {
   "cell_type": "code",
   "execution_count": null,
   "metadata": {},
   "outputs": [],
   "source": [
    "# Probar el nuevo grafico"
   ]
  },
  {
   "cell_type": "markdown",
   "metadata": {},
   "source": [
    "## Conclusiones y comentarios"
   ]
  },
  {
   "cell_type": "code",
   "execution_count": null,
   "metadata": {},
   "outputs": [],
   "source": [
    "# TODO"
   ]
  }
 ],
 "metadata": {
  "colab": {
   "collapsed_sections": [],
   "name": "Optimizacion_PSO.ipynb",
   "provenance": [],
   "version": "0.3.2"
  },
  "kernelspec": {
   "display_name": "Python 2",
   "language": "python",
   "name": "python2"
  },
  "language_info": {
   "codemirror_mode": {
    "name": "ipython",
    "version": 2
   },
   "file_extension": ".py",
   "mimetype": "text/x-python",
   "name": "python",
   "nbconvert_exporter": "python",
   "pygments_lexer": "ipython2",
   "version": "2.7.12"
  }
 },
 "nbformat": 4,
 "nbformat_minor": 1
}
